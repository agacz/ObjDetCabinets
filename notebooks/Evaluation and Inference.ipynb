{
 "cells": [
  {
   "cell_type": "markdown",
   "metadata": {},
   "source": [
    "# Evaluation of the model"
   ]
  },
  {
   "cell_type": "markdown",
   "metadata": {},
   "source": [
    "## Set up paths"
   ]
  },
  {
   "cell_type": "code",
   "execution_count": null,
   "metadata": {},
   "outputs": [],
   "source": [
    "import os, sys\n",
    "\n",
    "MAIN_DIR = os.path.abspath(\"..\").replace(' ','')\n",
    "sys.path.insert(0,MAIN_DIR)\n",
    "\n",
    "# Path to the exported model to be evaluated. Change to use another model. \n",
    "PATH_TO_MODEL = os.path.normpath('/workspace/CabinetsCV/models/fine-tuned/efficient_det_all_v8')\n",
    "\n",
    "# Path to the folder that contains images and their ground truth annotations used for evaluation. \n",
    "# Images (.jpg) and annotations (.xml) are expected to have the same names.\n",
    "PATH_TO_TEST_IMG_DIR = os.path.normpath('/workspace/CabinetsCV/data/test_images_all')\n",
    "\n",
    "#\\models\\fine-tuned\\efficient_det_1024_rand_aug_1_4\\exported\n",
    "SAVED_MODEL = os.path.join(PATH_TO_MODEL, 'exported', 'saved_model')\n",
    "# Label map used during training\n",
    "PATH_TO_LABELMAP = os.path.normpath('/workspace/CabinetsCV/data/train-valid-split/label_map.pbtxt') "
   ]
  },
  {
   "cell_type": "code",
   "execution_count": null,
   "metadata": {},
   "outputs": [],
   "source": [
    "import time\n",
    "import random\n",
    "import matplotlib.pyplot as plt\n",
    "from pathlib import Path\n",
    "import tensorflow as tf\n",
    "\n",
    "# our modules in src/\n",
    "from src.evaluation import *\n",
    "import src.visualize\n",
    "\n",
    "import warnings\n",
    "# suppress Matplotlib warnings\n",
    "warnings.filterwarnings('ignore')   \n",
    "%matplotlib inline"
   ]
  },
  {
   "cell_type": "markdown",
   "metadata": {},
   "source": [
    "## Load saved model"
   ]
  },
  {
   "cell_type": "code",
   "execution_count": null,
   "metadata": {},
   "outputs": [],
   "source": [
    "# Load the model and build the detection function\n",
    "DETECT_FN = tf.saved_model.load(SAVED_MODEL)"
   ]
  },
  {
   "cell_type": "markdown",
   "metadata": {},
   "source": [
    "## Test data preprocessing"
   ]
  },
  {
   "cell_type": "code",
   "execution_count": null,
   "metadata": {},
   "outputs": [],
   "source": [
    "# We will resize test images to this target size as part of preprocessing\n",
    "TARGET_IMAGE_SIZE = 1024\n",
    "# How we reshape input images (see below)\n",
    "RESHAPE_FLAG = 'scale_min_and_crop'"
   ]
  },
  {
   "cell_type": "markdown",
   "metadata": {},
   "source": [
    "## Get detections on evaluation test images"
   ]
  },
  {
   "cell_type": "code",
   "execution_count": null,
   "metadata": {},
   "outputs": [],
   "source": [
    "detections_from_dir = detections_from_image_dir(\n",
    "    image_dir = PATH_TO_TEST_IMG_DIR,\n",
    "    detect_fn = DETECT_FN,\n",
    "    target_size = TARGET_IMAGE_SIZE,\n",
    "    label_map_path =  PATH_TO_LABELMAP,\n",
    "    min_score_thresh = 0.,\n",
    "    reshape = RESHAPE_FLAG,\n",
    "    only_top_left = False\n",
    "    )"
   ]
  },
  {
   "cell_type": "code",
   "execution_count": null,
   "metadata": {},
   "outputs": [],
   "source": [
    "get_coco_metrics(PATH_TO_TEST_IMG_DIR, detections_from_dir,\n",
    "                 PATH_TO_LABELMAP,\n",
    "                 target_size = TARGET_IMAGE_SIZE,\n",
    "                 reshape = RESHAPE_FLAG,\n",
    "                 include_metrics_per_category = False)"
   ]
  },
  {
   "cell_type": "code",
   "execution_count": null,
   "metadata": {},
   "outputs": [],
   "source": [
    "MIN_SCORE_THRESH = 0.5\n",
    "IOU_THRESH = 0.5"
   ]
  },
  {
   "cell_type": "code",
   "execution_count": null,
   "metadata": {},
   "outputs": [],
   "source": [
    "confMetrics = get_metrics(PATH_TO_TEST_IMG_DIR,\n",
    "                          detections_from_dir,\n",
    "                          PATH_TO_LABELMAP,\n",
    "                          min_score_thresh = MIN_SCORE_THRESH,\n",
    "                          iou_thresh = IOU_THRESH)"
   ]
  },
  {
   "cell_type": "code",
   "execution_count": null,
   "metadata": {},
   "outputs": [],
   "source": [
    "## OPTIONAL\n",
    "# write confusion matrix contents to file in the main directory\n",
    "fileName = PATH_TO_MODEL.replace('models/fine-tuned/','')+str('.txt')\n",
    "f = open(fileName, \"w+\")\n",
    "\n",
    "for it in confMetrics.items():\n",
    "    f.write(str(it[0])+'\\t'+str(it[1])+'\\n')\n",
    "    \n",
    "f.close()\n",
    "os.chmod(fileName,775)"
   ]
  },
  {
   "cell_type": "markdown",
   "metadata": {},
   "source": [
    "## Print confusion matrix results"
   ]
  },
  {
   "cell_type": "code",
   "execution_count": null,
   "metadata": {},
   "outputs": [],
   "source": [
    "src.visualize.print_metrics(confMetrics,\n",
    "                            PATH_TO_TEST_IMG_DIR,\n",
    "                            PATH_TO_LABELMAP,\n",
    "                            min_score_thresh = MIN_SCORE_THRESH,\n",
    "                            iou_thresh = IOU_THRESH)"
   ]
  },
  {
   "cell_type": "markdown",
   "metadata": {},
   "source": [
    "## Visualize evaluation images"
   ]
  },
  {
   "cell_type": "code",
   "execution_count": null,
   "metadata": {},
   "outputs": [],
   "source": [
    "NUM_IMG_PLOT = 85\n",
    "NUM_IMG_ROW = 2"
   ]
  },
  {
   "cell_type": "code",
   "execution_count": null,
   "metadata": {
    "scrolled": false
   },
   "outputs": [],
   "source": [
    "image_names = [x for x in os.listdir(PATH_TO_TEST_IMG_DIR) if '.jpg' in x or '.jpeg' in x]\n",
    "images_to_plot = sorted(random.sample(image_names, NUM_IMG_PLOT))"
   ]
  },
  {
   "cell_type": "code",
   "execution_count": null,
   "metadata": {},
   "outputs": [],
   "source": [
    "src.visualize.plot_predictions_from_paths(\n",
    "    images_to_plot,\n",
    "    detections_from_dir,\n",
    "    PATH_TO_LABELMAP,\n",
    "    min_score_thresh=0.5,\n",
    "    img_per_row = 2,\n",
    "    linewidth = 8)"
   ]
  },
  {
   "cell_type": "markdown",
   "metadata": {},
   "source": [
    "## Save evaluation images"
   ]
  },
  {
   "cell_type": "code",
   "execution_count": null,
   "metadata": {},
   "outputs": [],
   "source": [
    "MIN_SCORE_THRESH = 0.5\n",
    "TARGET_DIR = '/workspace/CabinetsCV/data/evaluation-images-v8'\n",
    "if not Path(TARGET_DIR).exists():\n",
    "    Path(TARGET_DIR).mkdir()\n",
    "src.visualize.save_predictions(\n",
    "                 TARGET_DIR,\n",
    "                 images_to_plot,\n",
    "                 detections_from_dir,\n",
    "                 PATH_TO_LABELMAP,\n",
    "                 min_score_thresh = MIN_SCORE_THRESH,\n",
    "                 linewidth = 7\n",
    "                )"
   ]
  }
 ],
 "metadata": {
  "kernelspec": {
   "display_name": "Python 3",
   "language": "python",
   "name": "python3"
  },
  "language_info": {
   "codemirror_mode": {
    "name": "ipython",
    "version": 3
   },
   "file_extension": ".py",
   "mimetype": "text/x-python",
   "name": "python",
   "nbconvert_exporter": "python",
   "pygments_lexer": "ipython3",
   "version": "3.7.6"
  }
 },
 "nbformat": 4,
 "nbformat_minor": 5
}
