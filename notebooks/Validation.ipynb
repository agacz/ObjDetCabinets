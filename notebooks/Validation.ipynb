{
 "cells": [
  {
   "cell_type": "markdown",
   "metadata": {
    "id": "SS4xh5Uy_7uA"
   },
   "source": [
    "# Validation notebook to accompany Training"
   ]
  },
  {
   "cell_type": "markdown",
   "metadata": {
    "id": "9OuW-qjMAna8"
   },
   "source": [
    "This notebook needs to be run in parallel with training in order to evaluate model performance on the validation data. This is done by tracking the checkpoint files saved by the training script and calculating validation metrics for each incoming checkpoint. *Needs to be run from the notebooks folder.*"
   ]
  },
  {
   "cell_type": "code",
   "execution_count": null,
   "metadata": {
    "id": "krA6aMplvIKF"
   },
   "outputs": [],
   "source": [
    "import os\n",
    "MAIN_DIR = os.path.abspath(\"..\").replace(' ','')\n",
    "NOTEBOOK_DIR = os.getcwd().replace(' ','')\n",
    "# choose the model being trained\n",
    "MY_MODEL_NAME = \"efficient_det_all_demo\"\n",
    "# change the Object Detection API location as appropriate\n",
    "TF_DIR = os.path.join(MAIN_DIR, \"tf-models\") "
   ]
  },
  {
   "cell_type": "code",
   "execution_count": null,
   "metadata": {
    "id": "jgKgRbYgiVfq"
   },
   "outputs": [],
   "source": [
    "my_model_dir = os.path.join(MAIN_DIR, \"models/fine-tuned\", MY_MODEL_NAME)\n",
    "config_path = os.path.join(my_model_dir, \"pipeline.config\")"
   ]
  },
  {
   "cell_type": "code",
   "execution_count": null,
   "metadata": {},
   "outputs": [],
   "source": [
    "## just for evaluation:\n",
    "os.environ['CUDA_VISIBLE_DEVICES'] = '-1'\n",
    "## maybe also use:\n",
    "# --sample_1_of_n_eval_examples=1"
   ]
  },
  {
   "cell_type": "code",
   "execution_count": null,
   "metadata": {
    "id": "LMjmE2XHcVxs",
    "scrolled": false
   },
   "outputs": [],
   "source": [
    "%cd {os.path.join(TF_DIR, \"research/object_detection\")}\n",
    "!python model_main_tf2.py \\\n",
    "--model_dir=$my_model_dir \\\n",
    "--pipeline_config_path=$config_path \\\n",
    "--checkpoint_dir=$my_model_dir \\\n",
    "--wait_interval=20\n",
    "%cd {NOTEBOOK_DIR}"
   ]
  },
  {
   "cell_type": "code",
   "execution_count": null,
   "metadata": {},
   "outputs": [],
   "source": [
    "## OPTIONAL\n",
    "import tensorflow as tf\n",
    "tf.config.list_physical_devices('GPU')"
   ]
  }
 ],
 "metadata": {
  "accelerator": "GPU",
  "colab": {
   "collapsed_sections": [],
   "name": "EPRI_ObjectDetection_Training_Validation.ipynb",
   "provenance": []
  },
  "kernelspec": {
   "display_name": "Python 3",
   "language": "python",
   "name": "python3"
  },
  "language_info": {
   "codemirror_mode": {
    "name": "ipython",
    "version": 3
   },
   "file_extension": ".py",
   "mimetype": "text/x-python",
   "name": "python",
   "nbconvert_exporter": "python",
   "pygments_lexer": "ipython3",
   "version": "3.7.6"
  }
 },
 "nbformat": 4,
 "nbformat_minor": 1
}
